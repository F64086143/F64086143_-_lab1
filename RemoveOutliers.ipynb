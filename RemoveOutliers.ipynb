{
 "cells": [
  {
   "cell_type": "code",
   "execution_count": 22,
   "id": "56163157",
   "metadata": {},
   "outputs": [],
   "source": [
    "def remove_outliers():\n",
    "    num=int(input('Enter the number of smallest and largest values to remove:'))\n",
    "    a_list=[]\n",
    "    s=input('Enter the number of smallest and largest values to remove:')\n",
    "    while(s!='Q'and s!='q'):\n",
    "        a_list+=[int(s)]\n",
    "        s=input('Enter the number of smallest and largest values to remove:')\n",
    "        \n",
    "        ascending_numbers = sorted(a_list)\n",
    "        remove_outliers=ascending_numbers[num:len(a_list)-num]\n",
    "        only_outliers=ascending_numbers[0:num]+ascending_numbers[len(a_list)-num:len(a_list)]\n",
    "    print('The original data:',a_list)\n",
    "    print('The data with the outliers removed:',remove_outliers)\n",
    "    print('The outliers:',only_outliers)\n",
    "    return "
   ]
  },
  {
   "cell_type": "code",
   "execution_count": 23,
   "id": "fa3d07be",
   "metadata": {},
   "outputs": [
    {
     "name": "stdout",
     "output_type": "stream",
     "text": [
      "Enter the number of smallest and largest values to remove:2\n",
      "Enter the number of smallest and largest values to remove:3\n",
      "Enter the number of smallest and largest values to remove:4\n",
      "Enter the number of smallest and largest values to remove:5\n",
      "Enter the number of smallest and largest values to remove:9\n",
      "Enter the number of smallest and largest values to remove:1\n",
      "Enter the number of smallest and largest values to remove:2\n",
      "Enter the number of smallest and largest values to remove:q\n",
      "The original data: [3, 4, 5, 9, 1, 2]\n",
      "The data with the outliers removed: [3, 4]\n",
      "The outliers: [1, 2, 5, 9]\n"
     ]
    }
   ],
   "source": [
    "remove_outliers()"
   ]
  },
  {
   "cell_type": "code",
   "execution_count": null,
   "id": "df5e0009",
   "metadata": {},
   "outputs": [],
   "source": []
  },
  {
   "cell_type": "code",
   "execution_count": null,
   "id": "2e20940e",
   "metadata": {},
   "outputs": [],
   "source": []
  }
 ],
 "metadata": {
  "kernelspec": {
   "display_name": "Python 3",
   "language": "python",
   "name": "python3"
  },
  "language_info": {
   "codemirror_mode": {
    "name": "ipython",
    "version": 3
   },
   "file_extension": ".py",
   "mimetype": "text/x-python",
   "name": "python",
   "nbconvert_exporter": "python",
   "pygments_lexer": "ipython3",
   "version": "3.7.10"
  }
 },
 "nbformat": 4,
 "nbformat_minor": 5
}
