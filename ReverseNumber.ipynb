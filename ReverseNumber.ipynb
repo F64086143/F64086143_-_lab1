{
 "cells": [
  {
   "cell_type": "code",
   "execution_count": 1,
   "id": "a7b7954d",
   "metadata": {},
   "outputs": [],
   "source": [
    "def reverse(number):\n",
    "    \n",
    "    while(number>=10):\n",
    "        print(number%10,end='')\n",
    "        number=number//10\n",
    "    print(number)"
   ]
  },
  {
   "cell_type": "code",
   "execution_count": 2,
   "id": "e114e930",
   "metadata": {},
   "outputs": [
    {
     "name": "stdout",
     "output_type": "stream",
     "text": [
      "Enter an integer:1234567890\n",
      "0987654321\n"
     ]
    }
   ],
   "source": [
    "number = int(input('Enter an integer:')) \n",
    "reverse(number)"
   ]
  },
  {
   "cell_type": "code",
   "execution_count": null,
   "id": "e9bb97d3",
   "metadata": {},
   "outputs": [],
   "source": []
  }
 ],
 "metadata": {
  "kernelspec": {
   "display_name": "Python 3",
   "language": "python",
   "name": "python3"
  },
  "language_info": {
   "codemirror_mode": {
    "name": "ipython",
    "version": 3
   },
   "file_extension": ".py",
   "mimetype": "text/x-python",
   "name": "python",
   "nbconvert_exporter": "python",
   "pygments_lexer": "ipython3",
   "version": "3.7.10"
  }
 },
 "nbformat": 4,
 "nbformat_minor": 5
}
