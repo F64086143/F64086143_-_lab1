{
 "cells": [
  {
   "cell_type": "code",
   "execution_count": 1,
   "id": "b52ac9c2",
   "metadata": {},
   "outputs": [
    {
     "name": "stdout",
     "output_type": "stream",
     "text": [
      "Welcome to Rock, Paper, Scissors game!\n",
      "Enter your move: (r)ock (p)aper (s)cissors:r\n",
      "ROCK versus...\n",
      "ROCK\n",
      "It is a tie!\n",
      "Enter your move: (r)ock (p)aper (s)cissors:p\n",
      "PAPER versus...\n",
      "SCISSORS\n",
      "You lose!\n",
      "Enter your move: (r)ock (p)aper (s)cissors:p\n",
      "PAPER versus...\n",
      "ROCK\n",
      "You win!\n",
      "You have 1 ties and  1 losses before your first win.\n"
     ]
    }
   ],
   "source": [
    "#r=1,p=2,s=3\n",
    "tie=0\n",
    "loss=0\n",
    "game=True\n",
    "print('Welcome to Rock, Paper, Scissors game!')\n",
    "play=input('Enter your move: (r)ock (p)aper (s)cissors:')\n",
    "while(game==True):\n",
    "    if(play=='r'):\n",
    "        print(\"ROCK versus...\")\n",
    "        num=1\n",
    "    elif(play=='p'):\n",
    "        print(\"PAPER versus...\")\n",
    "        num=2\n",
    "    elif(play=='s'):\n",
    "        print(\"SCISSORS versus...\")\n",
    "        num=3\n",
    "    else:print('error!')\n",
    "\n",
    "    import random\n",
    "    auto=random.randint(1,3)\n",
    "    if(auto==1):\n",
    "        print('ROCK')\n",
    "    elif(auto==2):\n",
    "        print('PAPER')\n",
    "    elif(auto==3):\n",
    "        print('SCISSORS')\n",
    "    \n",
    "    if(auto==num):\n",
    "        print('It is a tie!')\n",
    "        tie+=1\n",
    "        play=input('Enter your move: (r)ock (p)aper (s)cissors:')\n",
    "    \n",
    "    elif(num==1 and auto==2):\n",
    "        print('You lose!')\n",
    "        loss+=1\n",
    "        play=input('Enter your move: (r)ock (p)aper (s)cissors:')\n",
    "\n",
    "    elif(num==2 and auto==3):\n",
    "        print('You lose!')\n",
    "        loss+=1\n",
    "        play=input('Enter your move: (r)ock (p)aper (s)cissors:')\n",
    "    \n",
    "    elif(num==3 and auto==1):\n",
    "        print('You lose!')\n",
    "        loss+=1\n",
    "        play=input('Enter your move: (r)ock (p)aper (s)cissors:')\n",
    "    \n",
    "    else:\n",
    "        print('You win!')\n",
    "        print('You have',tie,'ties and ',loss ,'losses before your first win.')\n",
    "        break\n"
   ]
  },
  {
   "cell_type": "code",
   "execution_count": null,
   "id": "e80ee6dd",
   "metadata": {},
   "outputs": [],
   "source": []
  },
  {
   "cell_type": "code",
   "execution_count": null,
   "id": "1268183d",
   "metadata": {},
   "outputs": [],
   "source": []
  }
 ],
 "metadata": {
  "kernelspec": {
   "display_name": "Python 3",
   "language": "python",
   "name": "python3"
  },
  "language_info": {
   "codemirror_mode": {
    "name": "ipython",
    "version": 3
   },
   "file_extension": ".py",
   "mimetype": "text/x-python",
   "name": "python",
   "nbconvert_exporter": "python",
   "pygments_lexer": "ipython3",
   "version": "3.7.10"
  }
 },
 "nbformat": 4,
 "nbformat_minor": 5
}
